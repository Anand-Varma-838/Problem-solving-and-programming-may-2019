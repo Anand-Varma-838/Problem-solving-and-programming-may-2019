{
 "cells": [
  {
   "cell_type": "markdown",
   "metadata": {},
   "source": [
    "# Problem Solving and Programming\n",
    "\n",
    "## CH. Anand Prasad Varma\n",
    "\n",
    "## Day 11\n",
    "\n",
    "## Date : 14th May , 2019¶\n",
    "\n",
    "## Problem 1 :\n",
    "\n",
    "### Problem Statement  : For a given integer N, find the total number of  Non - Prime Factors in the range (1, N) (both exclusive) that do not contain the digit 0\n",
    "\n",
    "### Constraints : Numbers to be in range [1,1000]\n",
    "\n",
    "### Test Cases :\n",
    "* nonPrimeFactorsCount( 100 ) -> 2\n",
    "* nonPrimeFactorsCount( 50 )  -> 1 "
   ]
  },
  {
   "cell_type": "code",
   "execution_count": 119,
   "metadata": {},
   "outputs": [
    {
     "name": "stdout",
     "output_type": "stream",
     "text": [
      "5\n"
     ]
    }
   ],
   "source": [
    "def nonPrimeFactorsCount(n):\n",
    "    \n",
    "    c=0\n",
    "    factors(n)\n",
    "    for i in range(len(a)):\n",
    "        if a[i]%10 != 0:\n",
    "            c = c+1\n",
    "    return(c)\n",
    "def factors(n):\n",
    "    j=1\n",
    "    for i in range(2,(n//2)+1):\n",
    "        if n%i==0:\n",
    "            notprime(i)\n",
    "\n",
    "def notprime(m):\n",
    "    l=[]\n",
    "    count=0\n",
    "    ch = 0\n",
    "    k=0\n",
    "    for i in range(1,m+1):\n",
    "        if m%i==0:\n",
    "            count = count + 1\n",
    "    if count == 2:\n",
    "        ch = 1\n",
    "    elif count>2:\n",
    "        ch = 0\n",
    "        a.append(m)\n",
    "        \n",
    "\n",
    "a=[0]\n",
    "print(nonPrimeFactorsCount(2000))\n"
   ]
  },
  {
   "cell_type": "markdown",
   "metadata": {},
   "source": [
    "## Problem 2 :\n",
    "\n",
    "### Problem Statement  : For a given integer N. Find the least positive integer X made up of only 9's and 0's, such that, X is a multiple of N.\n",
    "### X is made up of one or more occurrences of 9 and zero or more occurrences of 0.\n",
    "\n",
    "### Constraints : \n",
    "* Integer made up of 9 and 0 .\n",
    "* Integer a multiple of n\n",
    "* atleast one 9 to be present in the integer \n",
    "\n",
    "### Test Cases :\n",
    "* Multiple( 5 )  -> 90\n",
    "* Multiple ( 7 )  -> 9009\n",
    "* Multiple( 1 )  -> 9"
   ]
  },
  {
   "cell_type": "code",
   "execution_count": null,
   "metadata": {},
   "outputs": [],
   "source": [
    "def multiple(n):\n",
    "    for i in range(9009,9011):\n",
    "        a=n*i\n",
    "        ch=0\n",
    "        b=list(map(int,' '.join(str(a)).split()))\n",
    "        for j in range(0,len(b)): \n",
    "            if b[j]==0 or b[j]==9:\n",
    "                ch=1\n",
    "            if ch==1:\n",
    "                print(a)\n",
    "                break\n",
    "        \n",
    "        \n",
    "prob2(5)"
   ]
  },
  {
   "cell_type": "code",
   "execution_count": 2,
   "metadata": {},
   "outputs": [],
   "source": [
    "# a=9008\n",
    "# ch=0\n",
    "# b=list(map(int,' '.join(str(a)).split()))\n",
    "# for j in range(0,len(b)): \n",
    "#     if b[j]==0 or b[j]==9:\n",
    "#         ch=1\n",
    "#     if ch==1:\n",
    "#         print(a)\n",
    "#         break\n",
    "# print(len(b))"
   ]
  },
  {
   "cell_type": "code",
   "execution_count": null,
   "metadata": {},
   "outputs": [],
   "source": []
  }
 ],
 "metadata": {
  "kernelspec": {
   "display_name": "Python 3",
   "language": "python",
   "name": "python3"
  },
  "language_info": {
   "codemirror_mode": {
    "name": "ipython",
    "version": 3
   },
   "file_extension": ".py",
   "mimetype": "text/x-python",
   "name": "python",
   "nbconvert_exporter": "python",
   "pygments_lexer": "ipython3",
   "version": "3.7.3"
  }
 },
 "nbformat": 4,
 "nbformat_minor": 2
}
