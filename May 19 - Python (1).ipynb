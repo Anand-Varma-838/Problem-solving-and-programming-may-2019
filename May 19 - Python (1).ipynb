{
 "cells": [
  {
   "cell_type": "markdown",
   "metadata": {},
   "source": [
    "# Problem Solving and Programming\n",
    "\n",
    "## Day - 16\n",
    "\n",
    "## Date - May 19\n",
    "\n",
    "## Daily Objectives\n",
    "* \n",
    "* \n",
    "* \n",
    "\n",
    "## Problem 1 :\n",
    "\n",
    "### Problem Statement \n",
    "1.Consider the following algorithm to generate a sequence of numbers. Start with an integer n. If n is even, divide by 2. If n is odd, multiply by 3 and add 1. Repeat this process with the new value of n, terminating when n = 1. For example, the following sequence of numbers will be generated for n = 22:\n",
    "\n",
    "22 11 34 17 52 26 13 40 20 10 5 16 8 4 2 1\n",
    "\n",
    "### Constraints \n",
    "It is conjectured (but not yet proven) that this algorithm will terminate at n = 1 for every integer n. Still, the conjecture holds for all integers up to at least 1, 000, 000. For an input n, the cycle-length of n is the number of numbers generated up to and including the 1. In the example above, the cycle length of 22 is 16. Given any two numbers i and j, you are to determine the maximum cycle length over all numbers between i and j, including both endpoints.\n",
    "\n",
    "\n",
    "### Test Cases\n",
    "* Prob3n(1,10)     -> 20\n",
    "* Prob3n(900,1000) -> 174\n",
    "* Prob3n(201,200)  -> 89"
   ]
  },
  {
   "cell_type": "code",
   "execution_count": 1,
   "metadata": {},
   "outputs": [
    {
     "name": "stdout",
     "output_type": "stream",
     "text": [
      "20\n",
      "0.0003139709999970819\n",
      "174\n",
      "0.005853213999984064\n",
      "89\n",
      "0.00014701399999239584\n"
     ]
    }
   ],
   "source": [
    "import timeit\n",
    "def Prob3n(i,j):\n",
    "    start = timeit.default_timer()\n",
    "    ch=0\n",
    "    \n",
    "    while (i<=j):\n",
    "        k=i\n",
    "        count=1\n",
    "        while (i>1):\n",
    "            if i%2==0:\n",
    "                i=i/2\n",
    "                count = count + 1\n",
    "            else:\n",
    "                i=3*i + 1\n",
    "                count = count + 1\n",
    "        if count>ch:\n",
    "            ch=count\n",
    "        i=k\n",
    "        i = i+ 1\n",
    "      \n",
    "    print(ch) \n",
    "    return  timeit.default_timer()-start\n",
    "print(Prob3n(1,10))\n",
    "print(Prob3n(900,1000))\n",
    "print(Prob3n(201,210))\n"
   ]
  },
  {
   "cell_type": "code",
   "execution_count": null,
   "metadata": {},
   "outputs": [],
   "source": []
  }
 ],
 "metadata": {
  "kernelspec": {
   "display_name": "Python 3",
   "language": "python",
   "name": "python3"
  },
  "language_info": {
   "codemirror_mode": {
    "name": "ipython",
    "version": 3
   },
   "file_extension": ".py",
   "mimetype": "text/x-python",
   "name": "python",
   "nbconvert_exporter": "python",
   "pygments_lexer": "ipython3",
   "version": "3.7.3"
  }
 },
 "nbformat": 4,
 "nbformat_minor": 2
}
