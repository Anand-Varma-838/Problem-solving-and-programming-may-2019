{
 "cells": [
  {
   "cell_type": "markdown",
   "metadata": {},
   "source": [
    "\n",
    "\n",
    "# Problem Solving and Programming\n",
    "\n",
    "## CH. Anand Prasad Varma\n",
    "\n",
    "## Day 7\n",
    "\n",
    "## Date : 10th May , 2019\n",
    "\n",
    "\n",
    "\n",
    "## Problem 1 :\n",
    "\n",
    "### Problem Statement : Design a function to print the first n prime numbers.\n",
    "\n",
    "### Constraints : Given number to be within range [1,1000]\n",
    " \n",
    "### Test Cases :\n",
    "* prime(5) -> 2,3,5,7,11\n",
    "* prime(8) -> 2,3,5,7,11,13,17,19\n"
   ]
  },
  {
   "cell_type": "code",
   "execution_count": null,
   "metadata": {},
   "outputs": [],
   "source": []
  },
  {
   "cell_type": "code",
   "execution_count": 14,
   "metadata": {},
   "outputs": [
    {
     "name": "stdout",
     "output_type": "stream",
     "text": [
      "2\n",
      "3\n",
      "5\n",
      "7\n",
      "11\n",
      "------\n",
      "2\n",
      "3\n",
      "5\n",
      "7\n",
      "11\n",
      "13\n",
      "17\n",
      "19\n",
      "------\n"
     ]
    }
   ],
   "source": [
    "def prime(n):\n",
    "    count=0\n",
    "    i=0\n",
    "    while count!=n:\n",
    "        sums = 0\n",
    "        i=i+1\n",
    "        for j in range(1,i+1):\n",
    "            if i%j==0:\n",
    "                sums = sums + 1\n",
    "   \n",
    "        if sums==2:\n",
    "            count = count + 1\n",
    "            print(i)\n",
    "    return \"------\"\n",
    "print(prime(5))  \n",
    "print(prime(8))\n",
    "        "
   ]
  },
  {
   "cell_type": "code",
   "execution_count": null,
   "metadata": {},
   "outputs": [],
   "source": []
  },
  {
   "cell_type": "markdown",
   "metadata": {},
   "source": [
    "## Problem 2 : \n",
    "\n",
    "### Problem Statement : Define a recursive function for finding the power of a number\n",
    "\n",
    "### Constraints : n and r parameters are in the range [1,1000]\n",
    "\n",
    "### Test Cases:\n",
    "* RecursivePower(2,3) -> 8\n",
    "* RecursivePower(4,3) -> 64\n"
   ]
  },
  {
   "cell_type": "code",
   "execution_count": 10,
   "metadata": {},
   "outputs": [
    {
     "data": {
      "text/plain": [
       "64"
      ]
     },
     "execution_count": 10,
     "metadata": {},
     "output_type": "execute_result"
    }
   ],
   "source": [
    "def RecursivePower(n,r):\n",
    "    if r==1:\n",
    "        return n\n",
    "    else:\n",
    "        return RecursivePower(n,r-1)*n\n",
    "RecursivePower(2,3)\n",
    "RecursivePower(4,3)"
   ]
  },
  {
   "cell_type": "code",
   "execution_count": null,
   "metadata": {},
   "outputs": [],
   "source": []
  },
  {
   "cell_type": "markdown",
   "metadata": {},
   "source": [
    "## Problem 3 : \n",
    "\n",
    "### Problem Statement : Define a recursive function to determine the factorial of a given number\n",
    "\n",
    "### Constraints : The given number is the range [1,1000]\n",
    "\n",
    "### Test Cases : \n",
    "* factorial(5) -> 120\n",
    "* factorial(4) -> 24\n",
    "* factorial(10) -> 3628800\n",
    "\n"
   ]
  },
  {
   "cell_type": "code",
   "execution_count": 12,
   "metadata": {},
   "outputs": [
    {
     "data": {
      "text/plain": [
       "3628800"
      ]
     },
     "execution_count": 12,
     "metadata": {},
     "output_type": "execute_result"
    }
   ],
   "source": [
    "def factorial(n):\n",
    "    if n==1:\n",
    "        return 1\n",
    "    else:\n",
    "        return n*factorial(n-1)\n",
    "factorial(10)\n"
   ]
  },
  {
   "cell_type": "code",
   "execution_count": null,
   "metadata": {},
   "outputs": [],
   "source": []
  },
  {
   "cell_type": "markdown",
   "metadata": {},
   "source": [
    "## Problem 4 : \n",
    "\n",
    "### Problem Statement : Define a recursive function to to find the greatest common divisor of two numbers  \n",
    "\n",
    "### Constraints : Both numbers should be in the range of [1,1000]\n",
    "\n",
    "### Test Cases :\n",
    "* gcd(42,12) -> 6\n",
    "* gcd(18,0) -> 18\n",
    "* gcd(1000599947878,1999477230332)\n",
    "\n"
   ]
  },
  {
   "cell_type": "code",
   "execution_count": 15,
   "metadata": {},
   "outputs": [
    {
     "data": {
      "text/plain": [
       "2"
      ]
     },
     "execution_count": 15,
     "metadata": {},
     "output_type": "execute_result"
    }
   ],
   "source": [
    "def gcd(a,b):\n",
    "    if b%a==0:\n",
    "        return a\n",
    "    else:\n",
    "        return gcd(b%a,a)\n",
    "gcd(42,12) \n",
    "gcd(18,0)\n",
    "gcd(1000599947878,1999477230332)"
   ]
  },
  {
   "cell_type": "code",
   "execution_count": null,
   "metadata": {},
   "outputs": [],
   "source": []
  },
  {
   "cell_type": "markdown",
   "metadata": {},
   "source": [
    "## Problem 5 : \n",
    "\n",
    "### Problem Statement : Define a recursive function to solve the problem of towers of hanoi  \n",
    "\n",
    "### Constraints : Four Parameters with the first one being number of discs and the rest being the positins\n",
    "\n",
    "### Test Cases :\n",
    "* towersofHanoi(1,'A','B','C')\n",
    "* towersofHanoi(3,'A','B','C')"
   ]
  },
  {
   "cell_type": "code",
   "execution_count": 6,
   "metadata": {},
   "outputs": [
    {
     "name": "stdout",
     "output_type": "stream",
     "text": [
      "Move 1 disk from A to C\n",
      "Move 2 disk from A to B\n",
      "Move 1 disk from C to B\n",
      "Move 3 disk from A to C\n",
      "Move 1 disk from B to A\n",
      "Move 2 disk from B to C\n",
      "Move 1 disk from A to C\n"
     ]
    }
   ],
   "source": [
    "def towersofHanoi(n,source,temp,dest):\n",
    "    if (n==1):\n",
    "        print('Move',n,'disk from',source,'to',dest)\n",
    "        return\n",
    "    else:\n",
    "        towersofHanoi(n-1,source,dest,temp)\n",
    "        print('Move',n,'disk from',source,'to',dest)\n",
    "        towersofHanoi(n-1,temp,source,dest)\n",
    "        return\n",
    "\n",
    "towersofHanoi(1,'A','B','C')    \n",
    "towersofHanoi(3,'A','B','C')\n",
    "        "
   ]
  },
  {
   "cell_type": "code",
   "execution_count": null,
   "metadata": {},
   "outputs": [],
   "source": []
  },
  {
   "cell_type": "markdown",
   "metadata": {},
   "source": [
    "## Problem 6 : \n",
    "\n",
    "### Problem Statement : Define a recursive function to generate the nth Fibonacci number.  \n",
    "\n",
    "### Constraints : Both numbers should be in the range of [1,1000]\n",
    "\n",
    "### Test Cases:\n",
    "* recur_fibo(5)\n",
    "* recur_fibo(8)\n"
   ]
  },
  {
   "cell_type": "code",
   "execution_count": 2,
   "metadata": {},
   "outputs": [
    {
     "data": {
      "text/plain": [
       "3"
      ]
     },
     "execution_count": 2,
     "metadata": {},
     "output_type": "execute_result"
    }
   ],
   "source": [
    "def recur_fibo(n):\n",
    "    if n < 0:\n",
    "        print(\"enter valid inout.\")\n",
    "        return -1\n",
    "    elif n==1:\n",
    "        return 0\n",
    "    elif n==2:\n",
    "        return 1\n",
    "    else:\n",
    "        return recur_fibo(n-1) + recur_fibo(n-2)\n",
    "    \n",
    "recur_fibo(5)\n",
    "recur_fibo(8)"
   ]
  },
  {
   "cell_type": "code",
   "execution_count": null,
   "metadata": {},
   "outputs": [],
   "source": []
  },
  {
   "cell_type": "markdown",
   "metadata": {},
   "source": [
    "## Problem 7 : \n",
    "\n",
    "### Problem Statement: Define a function to identity the number of times a substring is repeating in a given string\n",
    "\n",
    "### Constraints : --------\n",
    "\n",
    "### Test Cases:\n",
    "* substringCount('str', 'substr') -> 1\n",
    "* substringCount('1234567891122334455', '3') -> 3\n",
    "* substringCount('abccddccc', 'cc') -> 3\n",
    "* substringCount('aaaaaaa', 'aaa' ) -> 5\n",
    "\n"
   ]
  },
  {
   "cell_type": "code",
   "execution_count": 8,
   "metadata": {},
   "outputs": [
    {
     "data": {
      "text/plain": [
       "5"
      ]
     },
     "execution_count": 8,
     "metadata": {},
     "output_type": "execute_result"
    }
   ],
   "source": [
    "def substringCount(a,key):\n",
    "    count=0\n",
    "    l=len(key)\n",
    "    for i in range (0,len(a)-len(key)+1):\n",
    "        if a[i:l]==key:\n",
    "            count+=1\n",
    "        l+=1\n",
    "    return count\n",
    "substringCount('substr', 'str')\n",
    "substringCount('1234567891122334455', '3') \n",
    "substringCount('abccddccc', 'cc') \n",
    "substringCount('aaaaaaa', 'aaa' )\n"
   ]
  },
  {
   "cell_type": "code",
   "execution_count": null,
   "metadata": {},
   "outputs": [],
   "source": []
  },
  {
   "cell_type": "markdown",
   "metadata": {},
   "source": [
    "## Problem 8 : \n",
    "\n",
    "### Problem Statement:  Define a function to merge the characters of two strings alternatively. The remaining characters of the longer string are printed in the same order at the end.\n",
    "\n",
    "### Constraints : --------\n",
    "\n",
    "### Test Cases:\n",
    "* mergeString('abcd', 'abcd') -> 'aabbccdd'\n",
    "* mergeString('abc', '123456') -> 'a1b2c3456'\n",
    "* mergeString('0', '123456') -> '0123456'\n"
   ]
  },
  {
   "cell_type": "code",
   "execution_count": 18,
   "metadata": {},
   "outputs": [
    {
     "data": {
      "text/plain": [
       "'0123456'"
      ]
     },
     "execution_count": 18,
     "metadata": {},
     "output_type": "execute_result"
    }
   ],
   "source": [
    "def mergeString(a,b):\n",
    "    i = len(a)\n",
    "    j = len(b)\n",
    "    s=''\n",
    "    if i>j:\n",
    "        k = len(b)\n",
    "    elif i==j:\n",
    "        k = len(a)\n",
    "    else:\n",
    "        k =len(a)\n",
    "    for l in range(k):\n",
    "        s += a[l] + b[l]\n",
    "    if i>j:\n",
    "        for l in range(j,i):\n",
    "            s += a[l]\n",
    "    elif i<j:\n",
    "        for l in range(i,j):\n",
    "            s += b[l]\n",
    "    return s\n",
    "        \n",
    "print(mergeString('abcd', 'abcd'))\n",
    "print(mergeString('abc', '123456'))\n",
    "print(mergeString('0', '123456'))"
   ]
  },
  {
   "cell_type": "code",
   "execution_count": null,
   "metadata": {},
   "outputs": [],
   "source": []
  },
  {
   "cell_type": "markdown",
   "metadata": {},
   "source": [
    "## Problem 9 : \n",
    "\n",
    "### Problem Statement:   Define a function to convert a binary number to the corresponding decimal number\n",
    "\n",
    "### Constraints : Given number to be in range [1,1000]\n",
    "\n",
    "### Test Cases:\n",
    "* binaryToDecimal(1100) -> 12\n",
    "* binaryToDecimal(1010) -> 10\n",
    "* binaryToDecimal(111000) -> 56\n"
   ]
  },
  {
   "cell_type": "code",
   "execution_count": 22,
   "metadata": {},
   "outputs": [
    {
     "name": "stdout",
     "output_type": "stream",
     "text": [
      "12\n",
      "10\n",
      "56\n"
     ]
    }
   ],
   "source": [
    "def binaryToDecimal(n):\n",
    "    sum = 0\n",
    "    l = len(str(n))\n",
    "    for i in range(0,l):\n",
    "        rem = n%2\n",
    "        n = int(n/10)\n",
    "        sum += (rem*2**i)\n",
    "    return sum\n",
    "\n",
    "print(binaryToDecimal(1100))\n",
    "print(binaryToDecimal(1010))\n",
    "print(binaryToDecimal(111000))        "
   ]
  }
 ],
 "metadata": {
  "kernelspec": {
   "display_name": "Python 3",
   "language": "python",
   "name": "python3"
  },
  "language_info": {
   "codemirror_mode": {
    "name": "ipython",
    "version": 3
   },
   "file_extension": ".py",
   "mimetype": "text/x-python",
   "name": "python",
   "nbconvert_exporter": "python",
   "pygments_lexer": "ipython3",
   "version": "3.7.3"
  }
 },
 "nbformat": 4,
 "nbformat_minor": 2
}
