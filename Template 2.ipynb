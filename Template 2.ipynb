{
 "cells": [
  {
   "cell_type": "markdown",
   "metadata": {},
   "source": [
    "# Problem Solving and Programming\n",
    "\n",
    "## Day 6\n",
    "\n",
    "## Date : 9th May , 2019\n",
    "\n",
    "## Problem 1 :\n",
    "\n",
    "### Define a function to evaluate the polynomial f(x)= x^3 + 2 X^2 + 3 X - 10\n",
    "\n",
    "### Constraints : Given number to be in the range of [1,1000]\n",
    "\n",
    "### Test Cases\n",
    "* Test case 1 : poly(4)\n",
    "* Test case 2 : poly(2)"
   ]
  },
  {
   "cell_type": "code",
   "execution_count": 143,
   "metadata": {},
   "outputs": [
    {
     "name": "stdout",
     "output_type": "stream",
     "text": [
      "4070708\n",
      "138724532\n"
     ]
    }
   ],
   "source": [
    "import random\n",
    "def poly():\n",
    "    n=random.randrange(1,1000)\n",
    "    res = (n**3)+(2*n**2)+(3*n)-10\n",
    "    return(res)\n",
    "print(poly())\n",
    "print(poly())\n"
   ]
  },
  {
   "cell_type": "code",
   "execution_count": null,
   "metadata": {},
   "outputs": [],
   "source": []
  },
  {
   "cell_type": "markdown",
   "metadata": {},
   "source": [
    "## Problem 2 :\n",
    "\n",
    "### Determining whether a number is Even or Odd\n",
    "\n",
    "### Constraints: Given number will be given in [1,1000]\n",
    "\n",
    "### Test Cases\n",
    "* Test case 1 : even_odd(3)\n",
    "* Test case 2 : even_odd(8)"
   ]
  },
  {
   "cell_type": "code",
   "execution_count": 10,
   "metadata": {},
   "outputs": [
    {
     "name": "stdout",
     "output_type": "stream",
     "text": [
      "n is odd\n",
      "n is even\n"
     ]
    }
   ],
   "source": [
    "def even_odd(n):\n",
    "    if n%2==0:\n",
    "        print(\"n is even\")\n",
    "    else:\n",
    "        print(\"n is odd\")\n",
    "even_odd(3)\n",
    "even_odd(8)\n"
   ]
  },
  {
   "cell_type": "markdown",
   "metadata": {},
   "source": [
    "## Problem 3 :\n",
    "\n",
    "### Finding the greatest of 3 numbers\n",
    "\n",
    "### Constraints: Given number will be given in [1,1000]\n",
    "\n",
    "### Test Cases\n",
    "* Test case 1 : greater(3,2,1)\n",
    "* Test case 2 : greater(5,9,7)"
   ]
  },
  {
   "cell_type": "code",
   "execution_count": 32,
   "metadata": {},
   "outputs": [
    {
     "name": "stdout",
     "output_type": "stream",
     "text": [
      "a is greater\n",
      "b is greater\n"
     ]
    }
   ],
   "source": [
    "def greater(a,b,c):\n",
    "    if a>b and a>c:\n",
    "        return \"a is greater\"\n",
    "    elif b>a and b>c:\n",
    "        return \"b is greater\"\n",
    "    else:\n",
    "        return \"c is greater\"\n",
    "print(greater(3,2,1))\n",
    "print(greater(5,9,7))"
   ]
  },
  {
   "cell_type": "code",
   "execution_count": null,
   "metadata": {},
   "outputs": [],
   "source": []
  },
  {
   "cell_type": "markdown",
   "metadata": {},
   "source": [
    "## Problem 4 :\n",
    "\n",
    "### Given 2 ints, a and b, return True if one if them is 10 or if their sum is 10.\n",
    "\n",
    "### Constraints : Given nmber in the range [1,1000]\n",
    "\n",
    "### Test Cases\n",
    "* makes10(9, 10) → True\n",
    "* makes10(9, 9) → False\n",
    "* makes10(1, 9) → True"
   ]
  },
  {
   "cell_type": "code",
   "execution_count": 36,
   "metadata": {},
   "outputs": [
    {
     "name": "stdout",
     "output_type": "stream",
     "text": [
      "True\n",
      "False\n",
      "True\n"
     ]
    }
   ],
   "source": [
    "def makes10(a,b):\n",
    "    if(a==10 or b==10 or a+b==10):\n",
    "        return True\n",
    "    else:\n",
    "        return False\n",
    "print(makes10(9, 10))\n",
    "print(makes10(9, 9))\n",
    "print(makes10(1, 9)) "
   ]
  },
  {
   "cell_type": "code",
   "execution_count": null,
   "metadata": {},
   "outputs": [],
   "source": []
  },
  {
   "cell_type": "markdown",
   "metadata": {},
   "source": [
    "## Problem 5 : \n",
    "\n",
    "### Given 2 int values, define a function that returns True if one is negative and one is positive. Except if the parameter \"negative\" is True, then return True only if both are negative.\n",
    "\n",
    "### Constraints : given number in the range [-1000,1000]\n",
    " \n",
    "### Test Cases\n",
    "* Test case 1 : pos_neg(1,-1,False) -> True\n",
    "* Test case 2 : pos_neg(-1,1,False) -> True\n",
    "* Test case 3 : pos_neg(-4,-5,True) -> True\n",
    "* Test case 4 : pos_neg(-1,1,True) -> False\n",
    "* Test case 5 : pos_neg(1,1,True) -> False\n",
    "* Test case 6 : pos_neg(-1,-1,False) -> False"
   ]
  },
  {
   "cell_type": "code",
   "execution_count": 43,
   "metadata": {},
   "outputs": [
    {
     "name": "stdout",
     "output_type": "stream",
     "text": [
      "True\n",
      "True\n",
      "True\n",
      "False\n",
      "False\n",
      "False\n"
     ]
    }
   ],
   "source": [
    "def pos_neg(a,b,p):\n",
    "    if a<0 and b>0 and p==False:\n",
    "        return True\n",
    "    elif a>0 and b<0 and p==False:\n",
    "        return True\n",
    "    elif a<0 and b<0 and p==True:\n",
    "        return True\n",
    "    else:\n",
    "        return False\n",
    "print(pos_neg(1,-1,False))\n",
    "print(pos_neg(-1,1,False))\n",
    "print(pos_neg(-4,-5,True))\n",
    "print(pos_neg(-1,1,True))\n",
    "print(pos_neg(1,1,True))\n",
    "print(pos_neg(-1,-1,False))\n"
   ]
  },
  {
   "cell_type": "code",
   "execution_count": null,
   "metadata": {},
   "outputs": [],
   "source": []
  },
  {
   "cell_type": "markdown",
   "metadata": {},
   "source": [
    "## Problem 6 : \n",
    "\n",
    "### Given an int n, define a function that returns True if it is within 10 of 100 or 200. Note: abs(num) computes the absolute value of a number\n",
    "\n",
    "### Constraints: Given range of numbers is [1,1000]\n",
    "\n",
    "### Test Cases\n",
    "* near_hundred(93) → True\n",
    "* near_hundred(80) → False\n",
    "* near_hundred(189) → False\n",
    "* near_hundred(210) → True\n"
   ]
  },
  {
   "cell_type": "code",
   "execution_count": 53,
   "metadata": {},
   "outputs": [
    {
     "name": "stdout",
     "output_type": "stream",
     "text": [
      "True\n",
      "False\n",
      "False\n",
      "True\n"
     ]
    }
   ],
   "source": [
    "def near_hundred(n):\n",
    "    if(90<=n<=110):\n",
    "        return True\n",
    "    elif(190<=n<=210):\n",
    "        return True\n",
    "    else:\n",
    "        return False\n",
    "print(near_hundred(93))\n",
    "print(near_hundred(80))\n",
    "print(near_hundred(189))\n",
    "print(near_hundred(210))"
   ]
  },
  {
   "cell_type": "markdown",
   "metadata": {},
   "source": [
    "## Problem 7\n",
    "\n",
    "### Create a Random Number Generator as a function which takes the Range(lb, ub) and returns a Random number in the given range.\n",
    "\n",
    "### Constraints : Given numbers are within the range [1,10000]\n",
    "\n",
    "### Test Cases\n",
    "* randomGenerator(1,5)"
   ]
  },
  {
   "cell_type": "code",
   "execution_count": 72,
   "metadata": {},
   "outputs": [
    {
     "data": {
      "text/plain": [
       "1"
      ]
     },
     "execution_count": 72,
     "metadata": {},
     "output_type": "execute_result"
    }
   ],
   "source": [
    "import random\n",
    "\n",
    "def randomGenerator(lb,ub):\n",
    "    return random.randrange(lb,ub)\n",
    "\n",
    "randomGenerator(1,5)"
   ]
  },
  {
   "cell_type": "code",
   "execution_count": 122,
   "metadata": {},
   "outputs": [
    {
     "name": "stdout",
     "output_type": "stream",
     "text": [
      "42\n"
     ]
    }
   ],
   "source": [
    "import random\n",
    "\n",
    "def sumRandnum(n,lb,ub):\n",
    "    sum=0\n",
    "    for count in range (1,n+1):\n",
    "        sum=sum+random.randint(lb,ub)\n",
    "    return sum\n",
    "print(sumRandnum(100,0,1))"
   ]
  },
  {
   "cell_type": "code",
   "execution_count": null,
   "metadata": {},
   "outputs": [],
   "source": []
  },
  {
   "cell_type": "markdown",
   "metadata": {},
   "source": [
    "## Problem 8\n",
    "\n",
    "### Define a function to perform Linear search on list of N unsorted unique numbers. It take an array and the key element to be searched and returns the index of the element of key element if found. Else returns -1\n",
    "\n",
    "### Constraints : Given numbers are in the range [1,10000]\n",
    "\n",
    "### Test Cases : \n",
    "* linearSearch([1,4,8,0,3,5,6],3) -> 4\n",
    "* linearSearch([15,12,9,6,3,-3],0) -> -1\n",
    "* linearSearch([321,543,567,789],567) -> 2\n"
   ]
  },
  {
   "cell_type": "code",
   "execution_count": 127,
   "metadata": {},
   "outputs": [
    {
     "name": "stdout",
     "output_type": "stream",
     "text": [
      "4\n",
      "-1\n",
      "2\n"
     ]
    }
   ],
   "source": [
    "a=[1,4,8,0,3,5,6]\n",
    "def linearSearch(a,key):\n",
    "    for i in range(0,len(a)):\n",
    "        if a[i]==key:\n",
    "            return i\n",
    "    else:\n",
    "        return -1\n",
    "print(linearSearch([1,4,8,0,3,5,6],3))\n",
    "print(linearSearch([15,12,9,6,3,-3],0))\n",
    "print(linearSearch([321,543,567,789],567))\n"
   ]
  },
  {
   "cell_type": "code",
   "execution_count": null,
   "metadata": {},
   "outputs": [],
   "source": []
  },
  {
   "cell_type": "markdown",
   "metadata": {},
   "source": [
    "## Problem 9\n",
    "\n",
    "### Defining functions for Basic Arithmetic operations\n",
    "\n",
    "### Given numbers will be in the range [1,1000]\n",
    "\n",
    "### Test Cases\n",
    "* arthops(2,3,\"+\") -> 5\n",
    "* arthops(5,4,\"/\") -> 1.25\n",
    "* arthops(7,8,\"/\") -> -1\n"
   ]
  },
  {
   "cell_type": "code",
   "execution_count": 130,
   "metadata": {},
   "outputs": [
    {
     "name": "stdout",
     "output_type": "stream",
     "text": [
      "5\n",
      "1.25\n"
     ]
    },
    {
     "data": {
      "text/plain": [
       "-1"
      ]
     },
     "execution_count": 130,
     "metadata": {},
     "output_type": "execute_result"
    }
   ],
   "source": [
    "def arthops(a,b,op):\n",
    "    if op=='+':\n",
    "        return a+b\n",
    "    elif op=='-':\n",
    "        return a-b\n",
    "    elif op=='*':\n",
    "        return a*b\n",
    "    elif op=='/':\n",
    "        if a>b:\n",
    "            return a/b\n",
    "        else:\n",
    "            return -1\n",
    "    else:\n",
    "        return -1\n",
    "print(arthops(2,3,\"+\"))\n",
    "print(arthops(5,4,\"/\"))\n",
    "arthops(7,8,\"/\")\n",
    "                    \n"
   ]
  },
  {
   "cell_type": "code",
   "execution_count": null,
   "metadata": {},
   "outputs": [],
   "source": []
  },
  {
   "cell_type": "markdown",
   "metadata": {},
   "source": [
    "## Problem 10\n",
    "\n",
    "### Define a function to print N natural numbers.\n",
    "\n",
    "### Constraints : Given numbers in the range [1,1000]\n",
    "\n",
    "### Test Cases\n",
    "* natural(6) -> 1 2 3 4 5 6\n",
    "* natural(10) -> 1 2 3 4 5 6 7 8 9 10\n",
    "* natural(4) -> 1 2 3 4"
   ]
  },
  {
   "cell_type": "code",
   "execution_count": 138,
   "metadata": {},
   "outputs": [
    {
     "name": "stdout",
     "output_type": "stream",
     "text": [
      "-------\n",
      "1\n",
      "2\n",
      "3\n",
      "4\n",
      "5\n",
      "6\n",
      "7\n",
      "8\n",
      "-------\n",
      "1\n",
      "2\n",
      "-------\n",
      "1\n",
      "2\n",
      "3\n"
     ]
    },
    {
     "data": {
      "text/plain": [
       "4"
      ]
     },
     "execution_count": 138,
     "metadata": {},
     "output_type": "execute_result"
    }
   ],
   "source": [
    "def natural(n):\n",
    "    print(\"-------\")\n",
    "    for i in range (1,n):\n",
    "        print(i)\n",
    "    return n\n",
    "print(natural(8))\n",
    "print(natural(2))\n",
    "print(natural(4))\n"
   ]
  },
  {
   "cell_type": "code",
   "execution_count": null,
   "metadata": {},
   "outputs": [],
   "source": []
  },
  {
   "cell_type": "markdown",
   "metadata": {},
   "source": [
    "## Problem 11\n",
    "\n",
    "### Define a function to calculate the factorial of a given number\n",
    "\n",
    "### Constraints : Given numbers in the range [1,1000]\n",
    "\n",
    "### Test Cases\n",
    "* fact(5) -> 120\n",
    "* fact(3) -> 6\n",
    "* fact(6) -> 720"
   ]
  },
  {
   "cell_type": "code",
   "execution_count": 146,
   "metadata": {},
   "outputs": [
    {
     "name": "stdout",
     "output_type": "stream",
     "text": [
      "120\n",
      "6\n",
      "720\n"
     ]
    }
   ],
   "source": [
    "def fact(n):\n",
    "    f=1\n",
    "    for i in range(1,n+1):\n",
    "        f=f*i\n",
    "    return f\n",
    "print(fact(5))\n",
    "print(fact(3))\n",
    "print(fact(6))\n",
    "    "
   ]
  },
  {
   "cell_type": "code",
   "execution_count": null,
   "metadata": {},
   "outputs": [],
   "source": []
  },
  {
   "cell_type": "markdown",
   "metadata": {},
   "source": [
    "## Problem 12 : \n",
    "\n",
    "###  Define a function to generate multiplication tables. \n",
    "\n",
    "### Constraints: Given range of numbers is [1,1000]\n",
    "\n",
    "### Test Cases\n",
    "* MT(3, 5, 7) -> 3 X 5 = 15\n",
    "              3 X 6 = 18\n",
    "              3 X 7 = 21"
   ]
  },
  {
   "cell_type": "code",
   "execution_count": 155,
   "metadata": {},
   "outputs": [
    {
     "name": "stdout",
     "output_type": "stream",
     "text": [
      "3 * 5 = 15\n",
      "3 * 6 = 18\n",
      "3 * 7 = 21\n",
      " \n"
     ]
    }
   ],
   "source": [
    "def MT(n,lb,ub):\n",
    "    for i in range(lb,ub+1):\n",
    "        val=n*i\n",
    "        print(n ,\"*\",i,\"=\",val)\n",
    "    return \" \"\n",
    "print(MT(3,5,7))"
   ]
  },
  {
   "cell_type": "code",
   "execution_count": null,
   "metadata": {},
   "outputs": [],
   "source": []
  },
  {
   "cell_type": "markdown",
   "metadata": {},
   "source": [
    "## Problem 13 : \n",
    "\n",
    "###  Define a function to print the list of factors of a given number.\n",
    "\n",
    "### Constraints: Given range of numbers is [1,1000]\n",
    "\n",
    "### Test Cases\n",
    "* Test case 1 :      FactorList(6)  ->  1 2 3 6\n",
    "\n",
    "             FactorList (9) ->   1 3 9\n",
    "\n",
    "             FactorList (19) ->  1  19\n",
    "\n"
   ]
  },
  {
   "cell_type": "code",
   "execution_count": null,
   "metadata": {},
   "outputs": [],
   "source": []
  },
  {
   "cell_type": "code",
   "execution_count": 162,
   "metadata": {},
   "outputs": [
    {
     "name": "stdout",
     "output_type": "stream",
     "text": [
      "1\n",
      "2\n",
      "3\n",
      "6\n",
      "-------\n",
      "1\n",
      "3\n",
      "9\n",
      "-------\n",
      "1\n",
      "19\n",
      "-------\n"
     ]
    }
   ],
   "source": [
    "def FactorList(n):\n",
    "    for i in range(1,n+1):\n",
    "        if n%i==0:\n",
    "            print(i)\n",
    "    return \"-------\"\n",
    "print(FactorList(6))\n",
    "print(FactorList(9))\n",
    "print(FactorList(19))\n",
    "  "
   ]
  },
  {
   "cell_type": "code",
   "execution_count": null,
   "metadata": {},
   "outputs": [],
   "source": []
  },
  {
   "cell_type": "markdown",
   "metadata": {},
   "source": [
    "## Problem 14 : \n",
    "\n",
    "### DEfine a function to check if a given number is Prime and returns a Boolean value.\n",
    "\n",
    "### Constraints: Given range of numbers is [1,1000]\n",
    "\n",
    "### Test Cases\n",
    "* IsPrime(7) -> True\n",
    "* IsPrime(9) ->  False"
   ]
  },
  {
   "cell_type": "code",
   "execution_count": 165,
   "metadata": {},
   "outputs": [
    {
     "name": "stdout",
     "output_type": "stream",
     "text": [
      "True\n",
      "False\n"
     ]
    }
   ],
   "source": [
    "def IsPrime(n):\n",
    "    count = 0\n",
    "    for i in range(1,n+1):\n",
    "        if n%i==0:\n",
    "            count = count + 1\n",
    "    if count==2:\n",
    "        return True\n",
    "    else:\n",
    "        return False\n",
    "    \n",
    "print(IsPrime(7))\n",
    "print(IsPrime(9))\n",
    "    "
   ]
  },
  {
   "cell_type": "code",
   "execution_count": null,
   "metadata": {},
   "outputs": [],
   "source": []
  },
  {
   "cell_type": "markdown",
   "metadata": {},
   "source": [
    "## Problem 15 :\n",
    "\n",
    "### Define a function to count the number of digits in a given number.\n",
    "\n",
    "### Constraints: Given number will be given in [1,1000]\n",
    "\n",
    "### Test Cases\n",
    "* CountDigits(123456) ->  6\n",
    "* CountDigits (0) ->  1\n",
    "\n"
   ]
  },
  {
   "cell_type": "code",
   "execution_count": 168,
   "metadata": {},
   "outputs": [
    {
     "name": "stdout",
     "output_type": "stream",
     "text": [
      "6\n",
      "1\n"
     ]
    }
   ],
   "source": [
    "def CountDigits(s):\n",
    "    return len(str(s))\n",
    "print(CountDigits(123456))\n",
    "print(CountDigits(0))"
   ]
  },
  {
   "cell_type": "code",
   "execution_count": null,
   "metadata": {},
   "outputs": [],
   "source": []
  },
  {
   "cell_type": "markdown",
   "metadata": {},
   "source": [
    "## Problem 16 :\n",
    "\n",
    "### Define a function to check if a given number is a Perfect Number. ( Perfect number is a number for which the sum of all it's divisors is equal to the number itself)\n",
    "\n",
    "### Constraints: Given number will be given in [1,1000]\n",
    "\n",
    "### Test Cases\n",
    "* IsPerfect(3) -> False\n",
    "* IsPerfect (6) -> True"
   ]
  },
  {
   "cell_type": "code",
   "execution_count": 170,
   "metadata": {},
   "outputs": [
    {
     "name": "stdout",
     "output_type": "stream",
     "text": [
      "False\n",
      "True\n"
     ]
    }
   ],
   "source": [
    "def IsPerfect(n):\n",
    "    sum=0\n",
    "    for i in range(1,n):\n",
    "        if n%i==0:\n",
    "            sum=sum+i\n",
    "    if sum==n:\n",
    "        return True\n",
    "    else:\n",
    "        return False\n",
    "print(IsPerfect(3))\n",
    "print(IsPerfect(6))"
   ]
  },
  {
   "cell_type": "code",
   "execution_count": null,
   "metadata": {},
   "outputs": [],
   "source": []
  },
  {
   "cell_type": "markdown",
   "metadata": {},
   "source": [
    "## Problem 17 :\n",
    "\n",
    "### Define a function to generate the first N perfect numbers. \n",
    "\n",
    "### Constraints: Given number will be given in [1,1000]\n",
    "\n",
    "### Test Cases\n",
    "* GeneratePerfect(2) ->  6   28\n",
    "* GeneratePerfect (4) ->  6   28   496    8128"
   ]
  },
  {
   "cell_type": "code",
   "execution_count": null,
   "metadata": {},
   "outputs": [],
   "source": [
    "def GeneratePerfect(n):\n",
    "    for j in range(1,n+1):\n",
    "        for k in range(1,j+1):\n",
    "            for i in range(1,n):\n",
    "                if n%i==0:\n",
    "                    sum=sum+i\n",
    "            if sum==n:"
   ]
  },
  {
   "cell_type": "code",
   "execution_count": null,
   "metadata": {},
   "outputs": [],
   "source": []
  },
  {
   "cell_type": "markdown",
   "metadata": {},
   "source": [
    "## Problem 18 :\n",
    "\n",
    "### Define a function calculate the maximum, minimum and average of N numbers \n",
    "\n",
    "### Constraints: Given number will be given in [1,1000]\n",
    "\n",
    "### Test Cases\n",
    "* data( a[1,2,3,4,5] ) -> Max = 5, Min = 1, Avg = 3"
   ]
  },
  {
   "cell_type": "code",
   "execution_count": 181,
   "metadata": {},
   "outputs": [
    {
     "name": "stdout",
     "output_type": "stream",
     "text": [
      "max =  5\n",
      "min =  1\n",
      "avg =  3\n"
     ]
    }
   ],
   "source": [
    "def data(a):\n",
    "    max=a[1]\n",
    "    min=a[1]\n",
    "    sum=0\n",
    "    for i in range(0,len(a)):\n",
    "        if a[i]>max:\n",
    "            max=a[i]\n",
    "        if a[i]<min:\n",
    "            min=a[i]\n",
    "        sum=sum+a[i]\n",
    "    print(\"max = \",max)\n",
    "    print(\"min = \",min)\n",
    "    avg=int(sum/i)\n",
    "    return avg\n",
    "print(\"avg = \",data(a=[1,2,3,4,5]))"
   ]
  },
  {
   "cell_type": "code",
   "execution_count": null,
   "metadata": {},
   "outputs": [],
   "source": []
  },
  {
   "cell_type": "markdown",
   "metadata": {},
   "source": [
    "## Problem 19 :\n",
    "\n",
    "### Design a procedure to determine if a given string is a Palindrome\n",
    "\n",
    "### Constraints: Length of  string will be given in the range [1,1000]\n",
    "\n",
    "### Test Cases\n",
    "* Palindrome(\"racecar\") -> True\n",
    "* Palindrome(\"raptor\") -> False"
   ]
  },
  {
   "cell_type": "code",
   "execution_count": 192,
   "metadata": {},
   "outputs": [
    {
     "name": "stdout",
     "output_type": "stream",
     "text": [
      "racecar\n",
      "True\n",
      "rotpar\n",
      "False\n"
     ]
    }
   ],
   "source": [
    "def Palindrome(s):\n",
    "    x=len(s)-1\n",
    "    strn=s[x::-1]\n",
    "    print(strn)\n",
    "    if(s==strn):\n",
    "        return True\n",
    "    else:\n",
    "        return False\n",
    "print(Palindrome(s=\"racecar\"))\n",
    "print(Palindrome(s=\"raptor\"))"
   ]
  },
  {
   "cell_type": "code",
   "execution_count": null,
   "metadata": {},
   "outputs": [],
   "source": []
  },
  {
   "cell_type": "markdown",
   "metadata": {},
   "source": [
    "## Problem 20 :\n",
    "\n",
    "### Define a function to calculate the squareroot of a number \"without using the math function sqrt\".\n",
    "\n",
    "### Constraints: Given number will be given in [1,1000]\n",
    "\n",
    "### Test Cases\n",
    "* Squareroot(36) -> 6"
   ]
  },
  {
   "cell_type": "code",
   "execution_count": 3,
   "metadata": {},
   "outputs": [
    {
     "name": "stdout",
     "output_type": "stream",
     "text": [
      "6.0\n"
     ]
    }
   ],
   "source": [
    "def Squarerroot(n):\n",
    "    return n**0.5\n",
    "print(Squarerroot(36))"
   ]
  }
 ],
 "metadata": {
  "kernelspec": {
   "display_name": "Python 3",
   "language": "python",
   "name": "python3"
  },
  "language_info": {
   "codemirror_mode": {
    "name": "ipython",
    "version": 3
   },
   "file_extension": ".py",
   "mimetype": "text/x-python",
   "name": "python",
   "nbconvert_exporter": "python",
   "pygments_lexer": "ipython3",
   "version": "3.7.3"
  }
 },
 "nbformat": 4,
 "nbformat_minor": 2
}
