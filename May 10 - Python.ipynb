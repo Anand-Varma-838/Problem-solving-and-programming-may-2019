{
 "cells": [
  {
   "cell_type": "markdown",
   "metadata": {},
   "source": [
    "\n",
    "\n",
    "# Problem Solving and Programming\n",
    "\n",
    "## CH. Anand Prasad Varma\n",
    "\n",
    "## Day 6\n",
    "\n",
    "## Date : 9th May , 2019\n",
    "\n",
    "\n",
    "\n",
    "## Problem 1 :\n",
    "\n",
    "### Design a function to print the first n prime numbers.\n",
    "\n",
    "### Constraints : Given number to be within range [1,1000]\n",
    " \n",
    "### Test Cases :\n",
    "* prime(5) -> 2,3,5,7,11\n",
    "* prime(8) -> 2,3,5,7,11,13,17,19\n"
   ]
  },
  {
   "cell_type": "code",
   "execution_count": 14,
   "metadata": {},
   "outputs": [
    {
     "name": "stdout",
     "output_type": "stream",
     "text": [
      "2\n",
      "3\n",
      "5\n",
      "7\n",
      "11\n",
      "------\n",
      "2\n",
      "3\n",
      "5\n",
      "7\n",
      "11\n",
      "13\n",
      "17\n",
      "19\n",
      "------\n"
     ]
    }
   ],
   "source": [
    "def prime(n):\n",
    "    count=0\n",
    "    i=0\n",
    "    while count!=n:\n",
    "        sums = 0\n",
    "        i=i+1\n",
    "        for j in range(1,i+1):\n",
    "            if i%j==0:\n",
    "                sums = sums + 1\n",
    "   \n",
    "        if sums==2:\n",
    "            count = count + 1\n",
    "            print(i)\n",
    "    return \"------\"\n",
    "print(prime(5))  \n",
    "print(prime(8))\n",
    "        "
   ]
  },
  {
   "cell_type": "code",
   "execution_count": null,
   "metadata": {},
   "outputs": [],
   "source": []
  },
  {
   "cell_type": "markdown",
   "metadata": {},
   "source": [
    "## Problem 2 : \n",
    "\n",
    "### Define a recursive function for finding the power of a number\n",
    "\n",
    "### Constraints : n and r parameters are in the range [1,1000]\n",
    "\n",
    "### Test Cases:\n",
    "* RecursivePower(2,3) -> 8\n",
    "* RecursivePower(4,3) -> 64\n"
   ]
  },
  {
   "cell_type": "code",
   "execution_count": 10,
   "metadata": {},
   "outputs": [
    {
     "data": {
      "text/plain": [
       "64"
      ]
     },
     "execution_count": 10,
     "metadata": {},
     "output_type": "execute_result"
    }
   ],
   "source": [
    "def RecursivePower(n,r):\n",
    "    if r==1:\n",
    "        return n\n",
    "    else:\n",
    "        return RecursivePower(n,r-1)*n\n",
    "RecursivePower(2,3)\n",
    "RecursivePower(4,3)"
   ]
  },
  {
   "cell_type": "code",
   "execution_count": null,
   "metadata": {},
   "outputs": [],
   "source": []
  },
  {
   "cell_type": "markdown",
   "metadata": {},
   "source": [
    "## Problem 3 : \n",
    "\n",
    "### Define a recursive function to determine the factorial of a given number\n",
    "\n",
    "### Constraints : The given number is the range [1,1000]\n",
    "\n",
    "### Test Cases : \n",
    "* factorial(5) -> 120\n",
    "* factorial(4) -> 24\n",
    "* factorial(10) -> 3628800\n",
    "\n"
   ]
  },
  {
   "cell_type": "code",
   "execution_count": 12,
   "metadata": {},
   "outputs": [
    {
     "data": {
      "text/plain": [
       "3628800"
      ]
     },
     "execution_count": 12,
     "metadata": {},
     "output_type": "execute_result"
    }
   ],
   "source": [
    "def factorial(n):\n",
    "    if n==1:\n",
    "        return 1\n",
    "    else:\n",
    "        return n*factorial(n-1)\n",
    "factorial(10)\n"
   ]
  },
  {
   "cell_type": "code",
   "execution_count": null,
   "metadata": {},
   "outputs": [],
   "source": []
  },
  {
   "cell_type": "code",
   "execution_count": null,
   "metadata": {},
   "outputs": [],
   "source": [
    "## Problem 4 : \n",
    "\n",
    "### Problem Statement : Define a recursive function to to find the greatest common divisor of two numbers  \n",
    "\n",
    "### Constraints : Both numbers should be in the range of [1,1000]\n",
    "\n",
    "### Test Cases :\n",
    "* gcd(42,12) -> 6\n",
    "* gcd(18,0) -> 18\n",
    "* gcd(1000599947878,1999477230332)\n",
    "\n"
   ]
  },
  {
   "cell_type": "code",
   "execution_count": 15,
   "metadata": {},
   "outputs": [
    {
     "data": {
      "text/plain": [
       "2"
      ]
     },
     "execution_count": 15,
     "metadata": {},
     "output_type": "execute_result"
    }
   ],
   "source": [
    "def gcd(a,b):\n",
    "    if b%a==0:\n",
    "        return a\n",
    "    else:\n",
    "        return gcd(b%a,a)\n",
    "gcd(42,12) \n",
    "gcd(18,0)\n",
    "gcd(1000599947878,1999477230332)"
   ]
  },
  {
   "cell_type": "code",
   "execution_count": null,
   "metadata": {},
   "outputs": [],
   "source": []
  },
  {
   "cell_type": "code",
   "execution_count": null,
   "metadata": {},
   "outputs": [],
   "source": []
  },
  {
   "cell_type": "code",
   "execution_count": 6,
   "metadata": {},
   "outputs": [
    {
     "name": "stdout",
     "output_type": "stream",
     "text": [
      "Move 1 disk from A to C\n",
      "Move 2 disk from A to B\n",
      "Move 1 disk from C to B\n",
      "Move 3 disk from A to C\n",
      "Move 1 disk from B to A\n",
      "Move 2 disk from B to C\n",
      "Move 1 disk from A to C\n"
     ]
    }
   ],
   "source": [
    "def towersofHanoi(n,source,temp,dest):\n",
    "    if (n==1):\n",
    "        print('Move',n,'disk from',source,'to',dest)\n",
    "        return\n",
    "    else:\n",
    "        towersofHanoi(n-1,source,dest,temp)\n",
    "        print('Move',n,'disk from',source,'to',dest)\n",
    "        towersofHanoi(n-1,temp,source,dest)\n",
    "        return\n",
    "\n",
    "towersofHanoi(3,'A','B','C')\n",
    "        "
   ]
  },
  {
   "cell_type": "code",
   "execution_count": null,
   "metadata": {},
   "outputs": [],
   "source": []
  },
  {
   "cell_type": "markdown",
   "metadata": {},
   "source": [
    "## Problem 6 : \n",
    "\n",
    "### Problem Statement : Define a recursive function to generate the nth Fibonacci number.  \n",
    "\n",
    "### Constraints : Both numbers should be in the range of [1,1000]\n",
    "\n",
    "### Test Cases:\n"
   ]
  },
  {
   "cell_type": "code",
   "execution_count": 29,
   "metadata": {},
   "outputs": [
    {
     "name": "stdout",
     "output_type": "stream",
     "text": [
      "5\n"
     ]
    }
   ],
   "source": [
    "def recur_fibo(n):\n",
    "    if n <= 1:\n",
    "        return n\n",
    "    else:\n",
    "        return(recur_fibo(n-1) + recur_fibo(n-2))\n",
    "    \n",
    "print(recur_fibo(5))"
   ]
  },
  {
   "cell_type": "code",
   "execution_count": null,
   "metadata": {},
   "outputs": [],
   "source": []
  }
 ],
 "metadata": {
  "kernelspec": {
   "display_name": "Python 3",
   "language": "python",
   "name": "python3"
  },
  "language_info": {
   "codemirror_mode": {
    "name": "ipython",
    "version": 3
   },
   "file_extension": ".py",
   "mimetype": "text/x-python",
   "name": "python",
   "nbconvert_exporter": "python",
   "pygments_lexer": "ipython3",
   "version": "3.7.3"
  }
 },
 "nbformat": 4,
 "nbformat_minor": 2
}
