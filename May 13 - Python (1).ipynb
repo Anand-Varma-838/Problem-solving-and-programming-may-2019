{
 "cells": [
  {
   "cell_type": "code",
   "execution_count": null,
   "metadata": {},
   "outputs": [],
   "source": []
  },
  {
   "cell_type": "markdown",
   "metadata": {},
   "source": [
    "# Problem Solving and Programming\n",
    "\n",
    "## CH. Anand Prasad Varma\n",
    "\n",
    "## Day 10\n",
    "\n",
    "## Date : 13th May , 2019¶\n",
    "\n",
    "## Problem 1 :\n",
    "\n",
    "### Problem Statement : You are given n words. Some words may repeat. For each word, output its number of occurrences. The output order should correspond with the input order of appearance of the word. \n",
    "### First line of input contains the total number of words n. Next n lines contain words that need to processed.\n",
    "### First line of the output should contain the total number distinct words. Second line of output must contain the frequency of words the same order of their appearance as in the input\n",
    "\n",
    "### Constraints : Given number to be within range [1,1000]\n",
    "\n",
    "### Test Cases :\n",
    "\n",
    "* Sample Input :  6\n",
    "\n",
    "  * abcd\n",
    "  * ijkl\n",
    "  * abcd \n",
    "  * pqrs\n",
    "  * abcd\n",
    "  * ijkl\n",
    "\n",
    "* Sample Output :   3\n",
    "\n",
    "  3  2   1\n",
    "\n"
   ]
  },
  {
   "cell_type": "code",
   "execution_count": 3,
   "metadata": {},
   "outputs": [
    {
     "name": "stdout",
     "output_type": "stream",
     "text": [
      "input is 6\n",
      "abcd\n",
      "ijkl\n",
      "abcd\n",
      "pqrs\n",
      "abcd\n",
      "ijkl\n",
      "3 2 1 "
     ]
    }
   ],
   "source": [
    "  def read(num):\n",
    "    st=[]\n",
    "    for count in range(0,num):\n",
    "        st.append(input())\n",
    "    return st\n",
    "def dt(st):\n",
    "    k=[]\n",
    "    i=0\n",
    "    for index in range(0,len(st)):\n",
    "        a=st[index]\n",
    "        for count in range(0,len(st)):\n",
    "            if a==st[count] and a not in k:\n",
    "                k.insert(i,a)\n",
    "                i=i+1\n",
    "    return k\n",
    "def freq(st,k):\n",
    "    for count in range (0,len(k)):\n",
    "        f=0\n",
    "        for counter in range (0,len(st)):\n",
    "            if k[count]==st[counter]:\n",
    "                f=f+1\n",
    "        print(f,end=' ')  \n",
    "num=int(input(\"input is \"))\n",
    "a= read(num)\n",
    "b=dt(a)\n",
    "freq(a,b)\n",
    "   "
   ]
  },
  {
   "cell_type": "code",
   "execution_count": null,
   "metadata": {},
   "outputs": [],
   "source": []
  },
  {
   "cell_type": "markdown",
   "metadata": {},
   "source": [
    "## Problem 2 :\n",
    "\n",
    "### Problem Statement : Define a function to validate email addresses based on the following rules.\n",
    "\n",
    "* Email should be in the format username@domain.extension\n",
    "* username must start with an alphabet and can contain lowercase alphabet, digits, hyphen(-) and underscores( _ ).\n",
    "* username must not contain special characters, uppercase letters, whitespaces.\n",
    "* Length of username must be in the range (6, 16)\n",
    "* Domain can only contain lowercase alphabet and digits with length in range (3, 10) . No special characters are allowed\n",
    "* Extension can only contain lower case alphabet and its length must be in the range (2, 4)\n",
    "* First line of input contains total number of email addresses n.  Next n lines contain  n email addresses.\n",
    "\n",
    "### Output must contain contain  n  lines with either 'Valid' or 'Invalid'\n",
    "\n",
    "### Constraints : the email address must contain three parameters namely username,domain and extension\n",
    "\n",
    "### Test Cases :\n",
    "\n",
    "* Sample Input :  6\n",
    "\n",
    "  * abc456@gmail.com\n",
    "  * 456abc@yahoo.com\n",
    "  * abc_456@gitam.ed1\n",
    "  * abc-456@abc-d.in\n",
    "  * python@python.edu\n",
    "  * abc 456@edu.edu\n",
    "\n",
    "\n",
    "\n",
    "* Sample Output :  \n",
    "* Valid\n",
    "* Invalid\n",
    "* Invalid\n",
    "* Invalid\n",
    "* Valid\n",
    "* Invalid"
   ]
  },
  {
   "cell_type": "code",
   "execution_count": 10,
   "metadata": {},
   "outputs": [
    {
     "name": "stdout",
     "output_type": "stream",
     "text": [
      "valid\n",
      "invalid\n",
      "invalid\n",
      "invalid\n",
      "valid\n",
      "invalid\n"
     ]
    }
   ],
   "source": [
    "def email(a):\n",
    "    l1=[chr(x) for x in range(97,123)]\n",
    "    l2=[chr(x) for x in range(65,95) ]\n",
    "    l3=['/','`']\n",
    "    l4=[chr(x) for x in range(32,45)]\n",
    "    l5=[chr(x) for x in range(58,65)]\n",
    "    l6=[chr(x) for x in range(123,127)]\n",
    "    l7=[chr(x) for x in range(48,58)]\n",
    "    \n",
    "        \n",
    "    if '@' not in a or '.' not in a:\n",
    "        return 'invalid'\n",
    "    u=a[0:a.index('@')]\n",
    "    d=a[a.index('@')+1:a.index('.')]\n",
    "    e=a[a.index('.')+1:]\n",
    "    if a[0] not in l1:\n",
    "        return 'invalid'\n",
    "    for x in u:\n",
    "        if x in l2 or x in l3 or x in l4 or x in l5 or x in l6:\n",
    "            return 'invalid'\n",
    "    if len(u)<6 and len(u)>15:\n",
    "        return 'invalid'\n",
    "    if len(d)<3 and len(d)>9:\n",
    "        return 'invalid'\n",
    "    for x in d:\n",
    "        if x not in l1 and x not in l7:\n",
    "            return 'invalid'\n",
    "    if len(e)<2 and len(e)>3:\n",
    "        return 'invalid'\n",
    "    for x in e:\n",
    "        if x not in l1:\n",
    "            return 'invalid'\n",
    "    return 'valid'\n",
    "a=['abc456@gmail.com','456abc@yahoo.com','abc_456@gitam.ed1','abc-456@abc-d.in','python@python.edu','abc 456@edu.edu']\n",
    "for i in range(0,6):\n",
    "    print(email(a[i]))"
   ]
  }
 ],
 "metadata": {
  "kernelspec": {
   "display_name": "Python 3",
   "language": "python",
   "name": "python3"
  },
  "language_info": {
   "codemirror_mode": {
    "name": "ipython",
    "version": 3
   },
   "file_extension": ".py",
   "mimetype": "text/x-python",
   "name": "python",
   "nbconvert_exporter": "python",
   "pygments_lexer": "ipython3",
   "version": "3.7.3"
  }
 },
 "nbformat": 4,
 "nbformat_minor": 2
}
