{
 "cells": [
  {
   "cell_type": "markdown",
   "metadata": {},
   "source": [
    "# Problem Solving and Programming\n",
    "\n",
    "## Day - 12\n",
    "\n",
    "## Date - May 15\n",
    "\n",
    "## Daily Objectives\n",
    "* Packages and Modules\n",
    "* Regular Expressions\n",
    "* Learn about iterators,generators\n"
   ]
  },
  {
   "cell_type": "code",
   "execution_count": 1,
   "metadata": {},
   "outputs": [
    {
     "data": {
      "text/plain": [
       "120"
      ]
     },
     "execution_count": 1,
     "metadata": {},
     "output_type": "execute_result"
    }
   ],
   "source": [
    "from PythonScripts.test import fact #direct import of function\n",
    "\n",
    "fact(5)"
   ]
  },
  {
   "cell_type": "code",
   "execution_count": null,
   "metadata": {},
   "outputs": [],
   "source": []
  },
  {
   "cell_type": "code",
   "execution_count": 11,
   "metadata": {},
   "outputs": [
    {
     "name": "stdout",
     "output_type": "stream",
     "text": [
      "120\n"
     ]
    },
    {
     "data": {
      "text/plain": [
       "7260"
      ]
     },
     "execution_count": 11,
     "metadata": {},
     "output_type": "execute_result"
    }
   ],
   "source": [
    "import PythonScripts.test #calling pakcage but have to write direction ex:\"PythonScripts.test.sumN\" -> \"package.textfile.function\"\n",
    "\n",
    "print(PythonScripts.test.fact(5))\n",
    "PythonScripts.test.sumN(120)\n",
    "\n"
   ]
  },
  {
   "cell_type": "code",
   "execution_count": null,
   "metadata": {},
   "outputs": [],
   "source": []
  },
  {
   "cell_type": "code",
   "execution_count": 3,
   "metadata": {},
   "outputs": [
    {
     "name": "stdout",
     "output_type": "stream",
     "text": [
      "120\n"
     ]
    },
    {
     "data": {
      "text/plain": [
       "500500"
      ]
     },
     "execution_count": 3,
     "metadata": {},
     "output_type": "execute_result"
    }
   ],
   "source": [
    "import PythonScripts.test as nf  # gives a shortname to ex:\"PythonScripts\" -> \"nf\"\n",
    " \n",
    "print(nf.fact(5))\n",
    "nf.sumN(1000)\n"
   ]
  },
  {
   "cell_type": "code",
   "execution_count": null,
   "metadata": {},
   "outputs": [],
   "source": []
  },
  {
   "cell_type": "code",
   "execution_count": 4,
   "metadata": {},
   "outputs": [
    {
     "data": {
      "text/plain": [
       "120"
      ]
     },
     "execution_count": 4,
     "metadata": {},
     "output_type": "execute_result"
    }
   ],
   "source": [
    "from PythonScripts.test import fact #direct import of function\n",
    "\n",
    "fact(5)"
   ]
  },
  {
   "cell_type": "code",
   "execution_count": null,
   "metadata": {},
   "outputs": [],
   "source": []
  },
  {
   "cell_type": "code",
   "execution_count": null,
   "metadata": {},
   "outputs": [],
   "source": [
    "from PythonScripts.test import *  #imports all functions\n",
    "\n",
    "print(fact(5))\n",
    "sumN(1000)"
   ]
  },
  {
   "cell_type": "code",
   "execution_count": null,
   "metadata": {},
   "outputs": [],
   "source": []
  },
  {
   "cell_type": "code",
   "execution_count": 4,
   "metadata": {},
   "outputs": [
    {
     "name": "stdout",
     "output_type": "stream",
     "text": [
      "pto\n"
     ]
    }
   ],
   "source": [
    "from PythonScripts.StringFunctions import alternateCharacters as ac #String function\n",
    "print(ac('python'))"
   ]
  },
  {
   "cell_type": "code",
   "execution_count": null,
   "metadata": {},
   "outputs": [],
   "source": []
  },
  {
   "cell_type": "code",
   "execution_count": 1,
   "metadata": {},
   "outputs": [
    {
     "data": {
      "text/plain": [
       "'nohtyp'"
      ]
     },
     "execution_count": 1,
     "metadata": {},
     "output_type": "execute_result"
    }
   ],
   "source": [
    "from PythonScripts.StringFunctions import r #String function\n",
    "\n",
    "r('python')"
   ]
  },
  {
   "cell_type": "code",
   "execution_count": null,
   "metadata": {},
   "outputs": [],
   "source": []
  },
  {
   "cell_type": "code",
   "execution_count": 10,
   "metadata": {},
   "outputs": [
    {
     "name": "stdout",
     "output_type": "stream",
     "text": [
      "Does not match\n"
     ]
    }
   ],
   "source": [
    "import re  #Predefined package\n",
    "\n",
    "pattern='^g....$'\n",
    "domain='google'\n",
    "\n",
    "re.match(pattern,domain)\n",
    "\n",
    "if re.match(pattern,domain):\n",
    "    print(\"Match\")\n",
    "else:\n",
    "    print(\"Does not match\")"
   ]
  },
  {
   "cell_type": "code",
   "execution_count": null,
   "metadata": {},
   "outputs": [],
   "source": []
  },
  {
   "cell_type": "code",
   "execution_count": 89,
   "metadata": {},
   "outputs": [
    {
     "name": "stdout",
     "output_type": "stream",
     "text": [
      "Match\n"
     ]
    }
   ],
   "source": [
    "import re  #Predefined package\n",
    "\n",
    "pattern='^[a-z][a-z0-9_.-]{4,13}[a-z0-9][@][a-z0-9]{3,9}[.][a-z]{2,3}$'\n",
    "domain='gitam.ece@gmail.com'\n",
    "\n",
    "res=re.match(pattern,domain)\n",
    "\n",
    "if res:\n",
    "    print(\"Match\")\n",
    "else:\n",
    "    print(\"Does not match\")"
   ]
  },
  {
   "cell_type": "code",
   "execution_count": null,
   "metadata": {},
   "outputs": [],
   "source": []
  },
  {
   "cell_type": "code",
   "execution_count": 51,
   "metadata": {},
   "outputs": [
    {
     "name": "stdout",
     "output_type": "stream",
     "text": [
      "match\n"
     ]
    }
   ],
   "source": [
    "import re\n",
    "pattern = '^[1-9][0-9]{5}$'\n",
    "domain = '203456'\n",
    "if re.match(pattern,domain):\n",
    "    print(\"match\")\n",
    "else:\n",
    "    print(\"Does not match\")"
   ]
  },
  {
   "cell_type": "code",
   "execution_count": null,
   "metadata": {},
   "outputs": [],
   "source": []
  },
  {
   "cell_type": "code",
   "execution_count": 64,
   "metadata": {},
   "outputs": [
    {
     "name": "stdout",
     "output_type": "stream",
     "text": [
      "match\n"
     ]
    }
   ],
   "source": [
    "import re\n",
    "patter = '[6-9][0-9]{9}$'\n",
    "domain = '6300800000'\n",
    "if re.match(patter,domain):\n",
    "    print(\"match\")\n",
    "else:\n",
    "    print(\"does not match\")"
   ]
  },
  {
   "cell_type": "code",
   "execution_count": null,
   "metadata": {},
   "outputs": [],
   "source": []
  },
  {
   "cell_type": "code",
   "execution_count": 65,
   "metadata": {},
   "outputs": [
    {
     "name": "stdout",
     "output_type": "stream",
     "text": [
      "match\n"
     ]
    }
   ],
   "source": [
    "import re\n",
    "patter = '^[+][9][1][6-9][0-9]{9}$'\n",
    "domain = '+916300800000'\n",
    "if re.match(patter,domain):\n",
    "    print(\"match\")\n",
    "else:\n",
    "    print(\"does not match\")"
   ]
  },
  {
   "cell_type": "code",
   "execution_count": null,
   "metadata": {},
   "outputs": [],
   "source": []
  },
  {
   "cell_type": "code",
   "execution_count": 90,
   "metadata": {},
   "outputs": [
    {
     "name": "stdout",
     "output_type": "stream",
     "text": [
      "does not match\n"
     ]
    }
   ],
   "source": [
    "import re\n",
    "pattern = '^[a-zA-Z][a-zA-Z]+[a-zA-Z0-9!@#$-_*][0-9]+[!@#$-_*]+{5,20}&'\n",
    "domain='adVsd-sfaaf#'\n",
    "if re.match(patter,domain):\n",
    "    print(\"match\")\n",
    "else:\n",
    "    print(\"does not match\")"
   ]
  }
 ],
 "metadata": {
  "kernelspec": {
   "display_name": "Python 3",
   "language": "python",
   "name": "python3"
  },
  "language_info": {
   "codemirror_mode": {
    "name": "ipython",
    "version": 3
   },
   "file_extension": ".py",
   "mimetype": "text/x-python",
   "name": "python",
   "nbconvert_exporter": "python",
   "pygments_lexer": "ipython3",
   "version": "3.7.3"
  }
 },
 "nbformat": 4,
 "nbformat_minor": 2
}
