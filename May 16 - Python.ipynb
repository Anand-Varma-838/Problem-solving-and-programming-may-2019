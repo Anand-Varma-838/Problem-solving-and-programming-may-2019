{
 "cells": [
  {
   "cell_type": "markdown",
   "metadata": {},
   "source": [
    "# Problem Solving and Programming\n",
    "\n",
    "## Day - 13\n",
    "\n",
    "## Date - May 16\n",
    "\n",
    "## Daily Objectives\n",
    "* File Handling\n",
    "* External Libraries\n",
    "* Functional Programming\n",
    "\n",
    "\n",
    "## Problem 1 :\n",
    "\n",
    "### Problem Statement \n",
    "Define a function to read and write data from a text file in various methods\n",
    "\n",
    "### Constraints \n",
    "\n",
    "### Test Cases\n",
    "* \n",
    "* \n",
    "* "
   ]
  },
  {
   "cell_type": "code",
   "execution_count": 2,
   "metadata": {},
   "outputs": [
    {
     "data": {
      "text/plain": [
       "'Data in line 1\\nData in line 2\\n'"
      ]
     },
     "execution_count": 2,
     "metadata": {},
     "output_type": "execute_result"
    }
   ],
   "source": [
    "def readFileData(filename):\n",
    "    f = open(filename,'r')\n",
    "    filedata = f.readline()       # function to read each line in the text file\n",
    "    filedata += f.readline()      # function to append two lines in the text file\n",
    "    f.close()\n",
    "    return filedata\n",
    "\n",
    "readFileData('DataFiles/data.txt')"
   ]
  },
  {
   "cell_type": "code",
   "execution_count": null,
   "metadata": {},
   "outputs": [],
   "source": []
  },
  {
   "cell_type": "code",
   "execution_count": 4,
   "metadata": {},
   "outputs": [
    {
     "data": {
      "text/plain": [
       "'Data in line 1\\nData in line 2\\nData in line 3\\nData in line 4'"
      ]
     },
     "execution_count": 4,
     "metadata": {},
     "output_type": "execute_result"
    }
   ],
   "source": [
    "def readFileData(filename):\n",
    "    f = open(filename,'r')\n",
    "    filedata = f.read()  # function to read entire text file\n",
    "    f.close()\n",
    "    return filedata\n",
    "\n",
    "readFileData('DataFiles/data.txt')"
   ]
  },
  {
   "cell_type": "code",
   "execution_count": null,
   "metadata": {},
   "outputs": [],
   "source": []
  },
  {
   "cell_type": "code",
   "execution_count": 5,
   "metadata": {},
   "outputs": [
    {
     "data": {
      "text/plain": [
       "'Data in line 1\\n'"
      ]
     },
     "execution_count": 5,
     "metadata": {},
     "output_type": "execute_result"
    }
   ],
   "source": [
    "def readFileData(filename):\n",
    "    with open(filename,'r') as f:\n",
    "        filedata = f.readline()  \n",
    "        \n",
    "    return filedata\n",
    "\n",
    "readFileData('DataFiles/data.txt')"
   ]
  },
  {
   "cell_type": "code",
   "execution_count": null,
   "metadata": {},
   "outputs": [],
   "source": []
  },
  {
   "cell_type": "code",
   "execution_count": 8,
   "metadata": {},
   "outputs": [
    {
     "name": "stdout",
     "output_type": "stream",
     "text": [
      "Data in line 1\n",
      "Data in line 2\n",
      "Data in line 3\n",
      "Data in line 4"
     ]
    }
   ],
   "source": [
    "def readFileData(filename):\n",
    "    with open(filename,'r') as f:\n",
    "        for line in f:\n",
    "            print(line,end='')\n",
    "        \n",
    "    return \n",
    "\n",
    "readFileData('DataFiles/data.txt')"
   ]
  },
  {
   "cell_type": "code",
   "execution_count": null,
   "metadata": {},
   "outputs": [],
   "source": []
  },
  {
   "cell_type": "code",
   "execution_count": 10,
   "metadata": {},
   "outputs": [
    {
     "name": "stdout",
     "output_type": "stream",
     "text": [
      "Data in line 1\n",
      "Data in line 2\n",
      "Data in line 3\n",
      "Data in line 4\n"
     ]
    }
   ],
   "source": [
    "def readFileData(filename):\n",
    "    with open(filename,'r') as f:\n",
    "        for line in f:\n",
    "            print(line,end='')\n",
    "            print(f.read())\n",
    "    return \n",
    "\n",
    "readFileData('DataFiles/data.txt')"
   ]
  },
  {
   "cell_type": "code",
   "execution_count": null,
   "metadata": {},
   "outputs": [],
   "source": []
  },
  {
   "cell_type": "code",
   "execution_count": 13,
   "metadata": {},
   "outputs": [],
   "source": [
    "def readFileData(filename):\n",
    "    with open(filename,'r') as f:\n",
    "       # for line in f:\n",
    "        #    print(line,end='')\n",
    "           print(f.read())\n",
    "    return \n",
    "\n",
    "\n",
    "def writeIntoFile(filename,data):\n",
    "    with open(filename, 'w') as f:\n",
    "        f.write(data)\n",
    "    return\n",
    "\n",
    "#readFileData('DataFiles/data.txt')\n",
    "writeIntoFile('DataFiles/fileWrite.txt','data written into filewrite')"
   ]
  },
  {
   "cell_type": "code",
   "execution_count": null,
   "metadata": {},
   "outputs": [],
   "source": []
  },
  {
   "cell_type": "code",
   "execution_count": 26,
   "metadata": {},
   "outputs": [],
   "source": [
    "def readFileData(filename):\n",
    "    with open(filename,'r') as f:\n",
    "       # for line in f:\n",
    "        #    print(line,end='')\n",
    "           print(f.read())\n",
    "    return \n",
    "\n",
    "\n",
    "def writeIntoFile(filename,data,mode):\n",
    "    with open(filename, mode) as f:\n",
    "        f.write(data)\n",
    "    return\n",
    "\n",
    "#readFileData('DataFiles/data.txt')\n",
    "writeIntoFile('DataFiles/fileWrite.txt',' Third line \\n','a')"
   ]
  },
  {
   "cell_type": "code",
   "execution_count": null,
   "metadata": {},
   "outputs": [],
   "source": []
  },
  {
   "cell_type": "markdown",
   "metadata": {},
   "source": [
    "## Problem 2 :\n",
    "\n",
    "### Problem Statement\n",
    "Define a function to generate a marks data file for 1300 students such that each mark is entered in a new line. Marks range from 0 to 100 (inclusive) as random numbers.\n",
    "\n",
    "### Constraints\n",
    "\n",
    "### Test Cases\n",
    "* \n",
    "* \n",
    "* \n"
   ]
  },
  {
   "cell_type": "code",
   "execution_count": 5,
   "metadata": {},
   "outputs": [],
   "source": [
    "from random import randrange as k\n",
    "def GenerateMarksData(filename,mode):\n",
    "    with open(filename, mode) as f:\n",
    "        for i in range(0,1300):\n",
    "            f.write(str(k(0,101)))\n",
    "            f.write('\\n')\n",
    "    return\n",
    "\n",
    "GenerateMarksData('DataFiles/MarksData.txt','a')"
   ]
  },
  {
   "cell_type": "code",
   "execution_count": null,
   "metadata": {},
   "outputs": [],
   "source": []
  },
  {
   "cell_type": "markdown",
   "metadata": {},
   "source": [
    "## Problem 3 :\n",
    "\n",
    "### Problem Statement\n",
    "Generate a report on on the marks data with the following indicators\n",
    "* Highest Mark : \n",
    "* Lowest Mark :\n",
    "* Average Mark :\n",
    "* Number of students with distiction(>=80) : \n",
    "* Number of students with first class(>=60) :\n",
    "* Number of students with second class(>=50) :\n",
    "* Number of students with third class(>=40) :\n",
    "* Number of students failed(<40) :\n",
    "\n",
    "### Constraints\n",
    "\n",
    "### Test Cases\n",
    "* \n",
    "* \n",
    "* \n"
   ]
  },
  {
   "cell_type": "code",
   "execution_count": 28,
   "metadata": {},
   "outputs": [
    {
     "name": "stdout",
     "output_type": "stream",
     "text": [
      "Highest:  100\n",
      "Lowest:  0\n",
      "Average: 50\n",
      "Distiction :  384\n",
      "First class: 244\n",
      "Second class: 203\n",
      "Third class: 93\n",
      "Fail :  376\n"
     ]
    },
    {
     "data": {
      "text/plain": [
       "0.0023587249997945037"
      ]
     },
     "execution_count": 28,
     "metadata": {},
     "output_type": "execute_result"
    }
   ],
   "source": [
    "import timeit\n",
    "def readFileData(filename):\n",
    "    start=timeit.default_timer()\n",
    "    avg=0\n",
    "    count=0\n",
    "    sums=0\n",
    "    dist=0\n",
    "    first=0\n",
    "    second=0\n",
    "    third=0\n",
    "    fail=0\n",
    "    li=[]\n",
    "    with open(filename,'r') as f:\n",
    "        for line in f:\n",
    "            li.append(int(line))\n",
    "        \n",
    "        for i in li:\n",
    "            \n",
    "            if li[i]>=80 and li[i]<=100:\n",
    "                dist += 1\n",
    "            elif li[i]>=60 and li[i]<80 :\n",
    "                    first += 1\n",
    "            elif li[i]>=50 and li[i]<60:\n",
    "                second += 1 \n",
    "            elif li[i]>=40 and li[i]<50:\n",
    "                third += 1\n",
    "            elif li[i]<40 and li[i]>=0:\n",
    "                fail += 1\n",
    "    print(\"Highest: \",max(li))\n",
    "    print(\"Lowest: \",min(li))\n",
    "    print(\"Average:\",sum(li)//len(li))\n",
    "    print(\"Distiction : \",dist)\n",
    "    print(\"First class:\",first)\n",
    "    print(\"Second class:\",second)\n",
    "    print(\"Third class:\",third)\n",
    "    print(\"Fail : \",fail)\n",
    "    return timeit.default_timer()-start\n",
    "\n",
    "readFileData('DataFiles/MarksData.txt')"
   ]
  },
  {
   "cell_type": "code",
   "execution_count": null,
   "metadata": {},
   "outputs": [],
   "source": []
  },
  {
   "cell_type": "code",
   "execution_count": null,
   "metadata": {},
   "outputs": [],
   "source": []
  }
 ],
 "metadata": {
  "kernelspec": {
   "display_name": "Python 3",
   "language": "python",
   "name": "python3"
  },
  "language_info": {
   "codemirror_mode": {
    "name": "ipython",
    "version": 3
   },
   "file_extension": ".py",
   "mimetype": "text/x-python",
   "name": "python",
   "nbconvert_exporter": "python",
   "pygments_lexer": "ipython3",
   "version": "3.7.3"
  }
 },
 "nbformat": 4,
 "nbformat_minor": 2
}
