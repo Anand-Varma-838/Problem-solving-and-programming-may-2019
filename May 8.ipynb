{
 "cells": [
  {
   "cell_type": "markdown",
   "metadata": {},
   "source": [
    "\n",
    "# Template\n",
    "\n",
    "# CH. Anand Prasad Varma\n",
    "\n",
    "## Day 5\n",
    "\n",
    "##  8 May 2019\n",
    "\n",
    "## Notes\n",
    "\n",
    "## Session Plan\n",
    "\n",
    "### Practicing Python Syntax in the Interactive Shell\n",
    "\n",
    "* Print Function - print()\n",
    "* Variable Assignment(Single Variable, Multiple Variables)\n",
    "* Getting the Data Types using type()\n",
    "* String Slicing\n",
    "* Lists\n",
    "* Tuples\n",
    "* Dictionaries\n",
    "* Reading input from user\n",
    "\n",
    "### Jupyter Notebooks\n",
    "\n",
    "* Overview, Architecture\n",
    "* Standard Template\n",
    "* Markdown Syntax\n",
    "### Problem Set\n",
    "* Data Processing\n",
    "\n",
    "\n",
    "## Problem 1:\n",
    "\n",
    "### Problem Statement\n",
    "For a given number, check if it is divisible by 2 and 3 but not 4.\n",
    "\n",
    "### Constraints\n",
    "Given number will be in the range [1,1000000]\n",
    "\n",
    "### Test Cases\n",
    "* CheckDivisibility(6) -> True\n",
    "* CheckDivisibility(16)-> False\n",
    "* CheckDivisibility(20)-> False"
   ]
  },
  {
   "cell_type": "code",
   "execution_count": 1,
   "metadata": {},
   "outputs": [
    {
     "data": {
      "text/plain": [
       "False"
      ]
     },
     "execution_count": 1,
     "metadata": {},
     "output_type": "execute_result"
    }
   ],
   "source": [
    "def checkDivisibility(n):\n",
    "    if(n % 2 == 0 and n % 3 == 0 and n % 4 != 0):\n",
    "        return True\n",
    "    else:\n",
    "        return False\n",
    "checkDivisibility(16)"
   ]
  }
 ],
 "metadata": {
  "kernelspec": {
   "display_name": "Python 3",
   "language": "python",
   "name": "python3"
  },
  "language_info": {
   "codemirror_mode": {
    "name": "ipython",
    "version": 3
   },
   "file_extension": ".py",
   "mimetype": "text/x-python",
   "name": "python",
   "nbconvert_exporter": "python",
   "pygments_lexer": "ipython3",
   "version": "3.7.3"
  }
 },
 "nbformat": 4,
 "nbformat_minor": 2
}
